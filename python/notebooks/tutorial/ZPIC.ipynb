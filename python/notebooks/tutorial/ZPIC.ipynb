{
 "cells": [
  {
   "cell_type": "markdown",
   "id": "fa1a06d0-5e27-4c29-9099-29b2dddc9958",
   "metadata": {
    "tags": []
   },
   "source": [
    "# Running ZPIC from Python\n",
    "\n",
    "ZPIC includes a Python interface allowing you to run simulations directly from a Python environment. This can be done interactively from a console or notebook, or from a Python script.\n",
    "\n",
    "To run a ZPIC simulation from Python you must do the following:\n",
    "1. Select the ZPIC version you will be using for the simulation (em2d, em1ds, etc.)\n",
    "2. Initialize the simulation parameters\n",
    "3. Run the simulation\n",
    "\n",
    "In this notebook we illustrate this procedure doing a simple 1D Two-Stream instability simulation."
   ]
  },
  {
   "cell_type": "markdown",
   "id": "25e68863-fe6d-4532-ac35-ce41cb20e6c6",
   "metadata": {},
   "source": [
    "## Running a simulation"
   ]
  },
  {
   "cell_type": "markdown",
   "id": "7670dc7a-0b28-4355-b932-edbfe3f341a1",
   "metadata": {},
   "source": [
    "### 1. Selecting the ZPIC version to use\n",
    "\n",
    "Selecting the ZPIC version to use is done by importing the appropriate module. We will be using the 1D electromangetic spectral code, EM1DS, in this example so we need to import the `em1ds` module."
   ]
  },
  {
   "cell_type": "code",
   "execution_count": 1,
   "id": "e59f3164-6092-4977-8ab7-f4da23eeb90b",
   "metadata": {},
   "outputs": [],
   "source": [
    "# Add zpic library to path\n",
    "import sys\n",
    "sys.path.append(\"../../lib\")\n",
    "\n",
    "import es1d as zpic"
   ]
  },
  {
   "cell_type": "markdown",
   "id": "dd0ec841-3fc2-4a05-a4d0-99ba5e007759",
   "metadata": {},
   "source": [
    "### 2. Initializing simulation parameters\n",
    "\n",
    "As in any ZPIC simulation, we will need to set the particle species parameters, grid, and timestep  to be used for the simulation. For our example we will be using two counter propagating electron species, with:\n",
    "* Fluid generalized velocity $u_{flx} = \\pm 0.4 \\, \\mathrm{c}$\n",
    "* Thermal generalized velocity $u_{th} = 10^{-3} \\, \\mathrm{c}$ in all directions\n",
    "* 500 particles per cell each\n",
    "\n",
    "Each of the species will be an instance of the `em1ds.Species` class:"
   ]
  },
  {
   "cell_type": "code",
   "execution_count": 2,
   "id": "4d424fe2-c274-484c-b311-fcaf52aa3a4c",
   "metadata": {},
   "outputs": [],
   "source": [
    "m_q = -1.0                   # mass over charge ratio, in normalized units (1.0 would be a positron)\n",
    "ppc = 500                    # number of particles per cell\n",
    "ufl = [0.4,    0.0,  0.0]    # fluid momenta\n",
    "uth = [0.001,0.001,0.001]    # thermal momenta\n",
    "\n",
    "# Right going electron species\n",
    "right = zpic.Species( \"right\", m_q, ppc)\n",
    "\n",
    "# Left going electron species\n",
    "ufl[0] = -ufl[0]\n",
    "left  = zpic.Species( \"left\", m_q, ppc )"
   ]
  },
  {
   "cell_type": "markdown",
   "id": "6e8ee150-7f05-4791-965b-622e62ec33b5",
   "metadata": {},
   "source": [
    "Regarding grid parameters and time-step we will be using:\n",
    "* 120 grid cells \n",
    "* A box size of $ 4 \\times \\pi$ (in normalized units)\n",
    "* A timestep $\\Delta t = 10^{-1}$ (in normalized units)\n",
    "\n",
    "To complete the initialization we create a `em1ds.Simulation` object specifying these parameters and proving a list of all the species objects in the simulation:"
   ]
  },
  {
   "cell_type": "code",
   "execution_count": 3,
   "id": "653a83de-5712-453c-affc-fe911c8e4292",
   "metadata": {},
   "outputs": [],
   "source": [
    "import numpy as np\n",
    "\n",
    "nx = 120               # Number of grid cells\n",
    "box = 4 * np.pi        # Simulation box size\n",
    "dt = 0.1               # Time step\n",
    "\n",
    "# Simulation object\n",
    "sim = zpic.Simulation( nx,box, dt, species = [right,left],spline_order=1 )"
   ]
  },
  {
   "cell_type": "markdown",
   "id": "c7381909-5316-4705-a6f1-da172b4c9a0e",
   "metadata": {},
   "source": [
    "### 3. Running the simulation\n",
    "\n",
    "We can now run our simulation. The simplest way to run our simulation up to a specified time is to use the `run()` method of the simulation object we just created. To run the simulation up to time $t = 45$ (in normalized units) we do:"
   ]
  },
  {
   "cell_type": "code",
   "execution_count": 4,
   "id": "9904ee81-9f29-479f-a4f2-b9b7703a5906",
   "metadata": {},
   "outputs": [
    {
     "name": "stdout",
     "output_type": "stream",
     "text": [
      "\n",
      "Running simulation up to t = 45 ...\n",
      "n = 451, t = 45.1\n",
      "Done.\n"
     ]
    }
   ],
   "source": [
    "sim.run(45.0)"
   ]
  },
  {
   "cell_type": "markdown",
   "id": "a9382e44-8ff4-4ad2-8980-0da54ec1d864",
   "metadata": {},
   "source": [
    "The simulation will still be active when the command completes, and it is possible to call the `run()` method again to further advance the simulation time. To continue to run the simulation up to time $t = 50$ (in normalized units) we do:"
   ]
  },
  {
   "cell_type": "code",
   "execution_count": 5,
   "id": "23e12f40-c88d-4a15-9c16-aec9effc7419",
   "metadata": {},
   "outputs": [
    {
     "name": "stdout",
     "output_type": "stream",
     "text": [
      "\n",
      "Running simulation up to t = 50 ...\n",
      "n = 451, t = 45.1\r",
      "n = 452, t = 45.2\r",
      "n = 453, t = 45.3\r",
      "n = 454, t = 45.4\r",
      "n = 455, t = 45.5\r",
      "n = 456, t = 45.6\r",
      "n = 457, t = 45.7\r",
      "n = 458, t = 45.8\r",
      "n = 459, t = 45.9\r",
      "n = 460, t = 46\r",
      "n = 461, t = 46.1\r",
      "n = 462, t = 46.2\r",
      "n = 463, t = 46.3\r",
      "n = 464, t = 46.4\r",
      "n = 465, t = 46.5\r",
      "n = 466, t = 46.6\r",
      "n = 467, t = 46.7\r",
      "n = 468, t = 46.8\r",
      "n = 469, t = 46.9\r",
      "n = 470, t = 47\r",
      "n = 471, t = 47.1\r",
      "n = 472, t = 47.2\r",
      "n = 473, t = 47.3\r",
      "n = 474, t = 47.4\r",
      "n = 475, t = 47.5\r",
      "n = 476, t = 47.6\r",
      "n = 477, t = 47.7\r",
      "n = 478, t = 47.8\r",
      "n = 479, t = 47.9\r",
      "n = 480, t = 48\r",
      "n = 481, t = 48.1\r",
      "n = 482, t = 48.2\r",
      "n = 483, t = 48.3\r",
      "n = 484, t = 48.4\r",
      "n = 485, t = 48.5\r",
      "n = 486, t = 48.6\r",
      "n = 487, t = 48.7\r",
      "n = 488, t = 48.8\r",
      "n = 489, t = 48.9\r",
      "n = 490, t = 49\r",
      "n = 491, t = 49.1\r",
      "n = 492, t = 49.2\r",
      "n = 493, t = 49.3\r",
      "n = 494, t = 49.4\r",
      "n = 495, t = 49.5\r",
      "n = 496, t = 49.6\r",
      "n = 497, t = 49.7\r",
      "n = 498, t = 49.8\r",
      "n = 499, t = 49.9\r",
      "n = 500, t = 50\r",
      "n = 501, t = 50.1\r\n",
      "Done.\n"
     ]
    }
   ],
   "source": [
    "sim.run(50.0)"
   ]
  },
  {
   "cell_type": "markdown",
   "id": "327d67af-5293-4b0e-bb8d-fa385c95f8ba",
   "metadata": {},
   "source": [
    "This allows us to check the evolution of the various results at different time steps."
   ]
  },
  {
   "cell_type": "markdown",
   "id": "6cb877e2-2174-4b70-9471-633a066fd307",
   "metadata": {},
   "source": [
    "## Viewing simulation results\n",
    "\n",
    "The Python interface allows users to access simulation data directly, without requiring file output. All simulation data is exposed as data members of the `Simulation` object that was used."
   ]
  },
  {
   "cell_type": "markdown",
   "id": "c42806df-40cb-4750-8d80-6ec7daa78a7f",
   "metadata": {},
   "source": [
    "### Grid data\n",
    "\n",
    "We can acces the raw electric field, magnetic field and current density data of a `Simulation` object `sim` through the `sim.emf.E[x|y|z]`, `sim.emf.B[x|y|z]` and `sim.current.J[x|y|z]` properties, respectively. Each of these properties will be a [nx] NumPy float32 array that can be used as usual:"
   ]
  },
  {
   "cell_type": "code",
   "execution_count": 7,
   "id": "a3c0f059-a6fa-4db3-b685-68f28051f2de",
   "metadata": {},
   "outputs": [
    {
     "ename": "AttributeError",
     "evalue": "'es1d.Simulation' object has no attribute 'emf'",
     "output_type": "error",
     "traceback": [
      "\u001b[0;31m---------------------------------------------------------------------------\u001b[0m",
      "\u001b[0;31mAttributeError\u001b[0m                            Traceback (most recent call last)",
      "Input \u001b[0;32mIn [7]\u001b[0m, in \u001b[0;36m<cell line: 7>\u001b[0;34m()\u001b[0m\n\u001b[1;32m      4\u001b[0m xmin \u001b[38;5;241m=\u001b[39m sim\u001b[38;5;241m.\u001b[39mdx\u001b[38;5;241m/\u001b[39m\u001b[38;5;241m2\u001b[39m\n\u001b[1;32m      5\u001b[0m xmax \u001b[38;5;241m=\u001b[39m sim\u001b[38;5;241m.\u001b[39mbox \u001b[38;5;241m-\u001b[39m sim\u001b[38;5;241m.\u001b[39mdx\u001b[38;5;241m/\u001b[39m\u001b[38;5;241m2\u001b[39m\n\u001b[0;32m----> 7\u001b[0m plt\u001b[38;5;241m.\u001b[39mplot(np\u001b[38;5;241m.\u001b[39mlinspace(xmin, xmax, num \u001b[38;5;241m=\u001b[39m sim\u001b[38;5;241m.\u001b[39mnx), \u001b[43msim\u001b[49m\u001b[38;5;241;43m.\u001b[39;49m\u001b[43memf\u001b[49m\u001b[38;5;241m.\u001b[39mEx )\n\u001b[1;32m      8\u001b[0m plt\u001b[38;5;241m.\u001b[39mxlabel(\u001b[38;5;124m\"\u001b[39m\u001b[38;5;124m$x_1$\u001b[39m\u001b[38;5;124m\"\u001b[39m)\n\u001b[1;32m      9\u001b[0m plt\u001b[38;5;241m.\u001b[39mylabel(\u001b[38;5;124m\"\u001b[39m\u001b[38;5;124m$E_1$\u001b[39m\u001b[38;5;124m\"\u001b[39m)\n",
      "\u001b[0;31mAttributeError\u001b[0m: 'es1d.Simulation' object has no attribute 'emf'"
     ]
    }
   ],
   "source": [
    "import matplotlib.pyplot as plt\n",
    "\n",
    "# Plot field values at the center of the cells\n",
    "xmin = sim.dx/2\n",
    "xmax = sim.box - sim.dx/2\n",
    "\n",
    "plt.plot(np.linspace(xmin, xmax, num = sim.nx), sim.emf.Ex )\n",
    "plt.xlabel(\"$x_1$\")\n",
    "plt.ylabel(\"$E_1$\")\n",
    "plt.title(\"Longitudinal Electric Field\\n t = {:g}\".format(sim.t))\n",
    "plt.grid(True)\n",
    "\n",
    "plt.show()"
   ]
  },
  {
   "cell_type": "markdown",
   "id": "2b8815aa-62f0-447c-84d2-27db24810896",
   "metadata": {},
   "source": [
    "### Particle data\n",
    "\n",
    "We can also access raw particle data using the `particles` property of each Species object. This property is a NumPy array of `t_part` structures containing:\n",
    "* `ix` - the particle cell\n",
    "* `x` - the particle position inside the cell normalized to the cell size ( 0 <= x < 1 )\n",
    "* `ux`, `uy`, `uz` - the particle generalized velocity in each direction\n",
    "\n",
    "We can easily use this data to produce the phasespace plot for this simulation. Note that we had to convert the cell index / position to simulation position:"
   ]
  },
  {
   "cell_type": "code",
   "execution_count": 8,
   "id": "7b0e7d31-7b2f-4197-b6ef-f5ef3998da4d",
   "metadata": {},
   "outputs": [
    {
     "ename": "ValueError",
     "evalue": "no field of name ux",
     "output_type": "error",
     "traceback": [
      "\u001b[0;31m---------------------------------------------------------------------------\u001b[0m",
      "\u001b[0;31mValueError\u001b[0m                                Traceback (most recent call last)",
      "Input \u001b[0;32mIn [8]\u001b[0m, in \u001b[0;36m<cell line: 6>\u001b[0;34m()\u001b[0m\n\u001b[1;32m      3\u001b[0m \u001b[38;5;66;03m# Simple function to convert particle positions\u001b[39;00m\n\u001b[1;32m      4\u001b[0m x \u001b[38;5;241m=\u001b[39m \u001b[38;5;28;01mlambda\u001b[39;00m s : (s\u001b[38;5;241m.\u001b[39mparticles[\u001b[38;5;124m'\u001b[39m\u001b[38;5;124mix\u001b[39m\u001b[38;5;124m'\u001b[39m] \u001b[38;5;241m+\u001b[39m s\u001b[38;5;241m.\u001b[39mparticles[\u001b[38;5;124m'\u001b[39m\u001b[38;5;124mx\u001b[39m\u001b[38;5;124m'\u001b[39m]) \u001b[38;5;241m*\u001b[39m s\u001b[38;5;241m.\u001b[39mdx \n\u001b[0;32m----> 6\u001b[0m plt\u001b[38;5;241m.\u001b[39mplot(x(left),  \u001b[43mleft\u001b[49m\u001b[38;5;241;43m.\u001b[39;49m\u001b[43mparticles\u001b[49m\u001b[43m[\u001b[49m\u001b[38;5;124;43m'\u001b[39;49m\u001b[38;5;124;43mux\u001b[39;49m\u001b[38;5;124;43m'\u001b[39;49m\u001b[43m]\u001b[49m,  \u001b[38;5;124m'\u001b[39m\u001b[38;5;124m.\u001b[39m\u001b[38;5;124m'\u001b[39m, ms\u001b[38;5;241m=\u001b[39m\u001b[38;5;241m1\u001b[39m,alpha\u001b[38;5;241m=\u001b[39m\u001b[38;5;241m0.2\u001b[39m, label \u001b[38;5;241m=\u001b[39m \u001b[38;5;124m\"\u001b[39m\u001b[38;5;124mLeft\u001b[39m\u001b[38;5;124m\"\u001b[39m)\n\u001b[1;32m      7\u001b[0m plt\u001b[38;5;241m.\u001b[39mplot(x(right), right\u001b[38;5;241m.\u001b[39mparticles[\u001b[38;5;124m'\u001b[39m\u001b[38;5;124mux\u001b[39m\u001b[38;5;124m'\u001b[39m], \u001b[38;5;124m'\u001b[39m\u001b[38;5;124m.\u001b[39m\u001b[38;5;124m'\u001b[39m, ms\u001b[38;5;241m=\u001b[39m\u001b[38;5;241m1\u001b[39m,alpha\u001b[38;5;241m=\u001b[39m\u001b[38;5;241m0.2\u001b[39m, label \u001b[38;5;241m=\u001b[39m \u001b[38;5;124m\"\u001b[39m\u001b[38;5;124mRight\u001b[39m\u001b[38;5;124m\"\u001b[39m)\n\u001b[1;32m      8\u001b[0m plt\u001b[38;5;241m.\u001b[39mxlabel(\u001b[38;5;124m\"\u001b[39m\u001b[38;5;124mx1\u001b[39m\u001b[38;5;124m\"\u001b[39m)\n",
      "\u001b[0;31mValueError\u001b[0m: no field of name ux"
     ]
    }
   ],
   "source": [
    "import matplotlib.pyplot as plt\n",
    "\n",
    "# Simple function to convert particle positions\n",
    "x = lambda s : (s.particles['ix'] + s.particles['x']) * s.dx \n",
    "\n",
    "plt.plot(x(left),  left.particles['ux'],  '.', ms=1,alpha=0.2, label = \"Left\")\n",
    "plt.plot(x(right), right.particles['ux'], '.', ms=1,alpha=0.2, label = \"Right\")\n",
    "plt.xlabel(\"x1\")\n",
    "plt.ylabel(\"u1\")\n",
    "plt.title(\"u1-x1 phasespace\\nt = {:g}\".format(sim.t))\n",
    "plt.legend()\n",
    "plt.grid(True)\n",
    "plt.show()"
   ]
  },
  {
   "cell_type": "markdown",
   "id": "4cc9ff42-46c5-4ff8-9e7c-11838cf06f3d",
   "metadata": {},
   "source": [
    "### Charge Density\n",
    "\n",
    "Besides the raw simulation data, we can also access diagnostic data that needs to be generated, such as the charge density. These diagnostics can be generated on the fly; to get the charge density from a `Species` object we use the `charge()` method:"
   ]
  },
  {
   "cell_type": "code",
   "execution_count": 9,
   "id": "b438a537-7636-4f8d-a17f-bbe9f87c8d6b",
   "metadata": {},
   "outputs": [
    {
     "data": {
      "image/png": "[encoded data removed]",
      "text/plain": [
       "<Figure size 640x480 with 1 Axes>"
      ]
     },
     "metadata": {},
     "output_type": "display_data"
    }
   ],
   "source": [
    "import matplotlib.pyplot as plt\n",
    "\n",
    "charge = left.charge()\n",
    "\n",
    "xmin = sim.dx/2\n",
    "xmax = sim.box - sim.dx/2\n",
    "\n",
    "plt.plot(np.linspace(xmin, xmax, num = sim.nx), left.charge() ) \n",
    "plt.xlabel(\"x1\")\n",
    "plt.ylabel(\"rho\")\n",
    "plt.title(\"Left beam charge density\\nt = {:g}\".format(sim.t))\n",
    "\n",
    "plt.grid(True)\n",
    "plt.show()"
   ]
  },
  {
   "cell_type": "markdown",
   "id": "522b55e6-648b-4fcd-b7a3-4a2bab95978c",
   "metadata": {},
   "source": [
    "### Phasespace Density\n",
    "\n",
    "Similarily, we can get the phasespace density of a given `Species` object using the `phasespace()` method: "
   ]
  },
  {
   "cell_type": "code",
   "execution_count": 10,
   "id": "401612ab-caf7-425d-b776-96231266d3b5",
   "metadata": {},
   "outputs": [
    {
     "ename": "TypeError",
     "evalue": "an integer is required",
     "output_type": "error",
     "traceback": [
      "\u001b[0;31m---------------------------------------------------------------------------\u001b[0m",
      "\u001b[0;31mTypeError\u001b[0m                                 Traceback (most recent call last)",
      "Input \u001b[0;32mIn [10]\u001b[0m, in \u001b[0;36m<cell line: 7>\u001b[0;34m()\u001b[0m\n\u001b[1;32m      4\u001b[0m nx    \u001b[38;5;241m=\u001b[39m [\u001b[38;5;241m120\u001b[39m,\u001b[38;5;241m128\u001b[39m]\n\u001b[1;32m      5\u001b[0m \u001b[38;5;28mrange\u001b[39m \u001b[38;5;241m=\u001b[39m [[\u001b[38;5;241m0\u001b[39m,sim\u001b[38;5;241m.\u001b[39mbox],[\u001b[38;5;241m-\u001b[39m\u001b[38;5;241m1.5\u001b[39m,\u001b[38;5;241m1.5\u001b[39m]]\n\u001b[0;32m----> 7\u001b[0m pha \u001b[38;5;241m=\u001b[39m np\u001b[38;5;241m.\u001b[39mabs(\u001b[43mleft\u001b[49m\u001b[38;5;241;43m.\u001b[39;49m\u001b[43mphasespace\u001b[49m\u001b[43m(\u001b[49m\u001b[43m \u001b[49m\u001b[43m[\u001b[49m\u001b[38;5;124;43m\"\u001b[39;49m\u001b[38;5;124;43mx1\u001b[39;49m\u001b[38;5;124;43m\"\u001b[39;49m\u001b[43m,\u001b[49m\u001b[43m \u001b[49m\u001b[38;5;124;43m\"\u001b[39;49m\u001b[38;5;124;43mu1\u001b[39;49m\u001b[38;5;124;43m\"\u001b[39;49m\u001b[43m]\u001b[49m\u001b[43m,\u001b[49m\u001b[43m \u001b[49m\u001b[43mnx\u001b[49m\u001b[43m,\u001b[49m\u001b[43m \u001b[49m\u001b[38;5;28;43mrange\u001b[39;49m\u001b[43m \u001b[49m\u001b[43m)\u001b[49m)\n\u001b[1;32m      9\u001b[0m plt\u001b[38;5;241m.\u001b[39mimshow( pha, interpolation \u001b[38;5;241m=\u001b[39m \u001b[38;5;124m'\u001b[39m\u001b[38;5;124mnearest\u001b[39m\u001b[38;5;124m'\u001b[39m, origin \u001b[38;5;241m=\u001b[39m \u001b[38;5;124m'\u001b[39m\u001b[38;5;124mlower\u001b[39m\u001b[38;5;124m'\u001b[39m,\n\u001b[1;32m     10\u001b[0m           extent \u001b[38;5;241m=\u001b[39m ( \u001b[38;5;28mrange\u001b[39m[\u001b[38;5;241m0\u001b[39m][\u001b[38;5;241m0\u001b[39m], \u001b[38;5;28mrange\u001b[39m[\u001b[38;5;241m0\u001b[39m][\u001b[38;5;241m1\u001b[39m], \u001b[38;5;28mrange\u001b[39m[\u001b[38;5;241m1\u001b[39m][\u001b[38;5;241m0\u001b[39m], \u001b[38;5;28mrange\u001b[39m[\u001b[38;5;241m1\u001b[39m][\u001b[38;5;241m1\u001b[39m] ),\n\u001b[1;32m     11\u001b[0m           aspect \u001b[38;5;241m=\u001b[39m \u001b[38;5;124m'\u001b[39m\u001b[38;5;124mauto\u001b[39m\u001b[38;5;124m'\u001b[39m)\n\u001b[1;32m     13\u001b[0m plt\u001b[38;5;241m.\u001b[39mcolorbar()\u001b[38;5;241m.\u001b[39mset_label(\u001b[38;5;124m'\u001b[39m\u001b[38;5;124mdensity\u001b[39m\u001b[38;5;124m'\u001b[39m)\n",
      "File \u001b[0;32mes1d.pyx:330\u001b[0m, in \u001b[0;36mes1d.Species.phasespace\u001b[0;34m()\u001b[0m\n",
      "\u001b[0;31mTypeError\u001b[0m: an integer is required"
     ]
    }
   ],
   "source": [
    "import matplotlib.pyplot as plt\n",
    "import matplotlib.colors as colors\n",
    "\n",
    "nx    = [120,128]\n",
    "range = [[0,sim.box],[-1.5,1.5]]\n",
    "\n",
    "pha = np.abs(left.phasespace( [\"x1\", \"u1\"], nx, range ))\n",
    "\n",
    "plt.imshow( pha, interpolation = 'nearest', origin = 'lower',\n",
    "          extent = ( range[0][0], range[0][1], range[1][0], range[1][1] ),\n",
    "          aspect = 'auto')\n",
    "\n",
    "plt.colorbar().set_label('density')\n",
    "plt.xlabel(\"x1\")\n",
    "plt.ylabel(\"u1\")\n",
    "plt.title(\"u1-x1 phasespace density\\nt = {:g}\".format(sim.t))\n",
    "\n",
    "plt.show()"
   ]
  },
  {
   "cell_type": "markdown",
   "id": "fb756e41-105f-4ae5-ae1d-fbd11d3a574f",
   "metadata": {},
   "source": [
    "### Saving simulation results\n",
    "\n",
    "If you your simulation takes a long time to compute, you may want to write diagnostic information to disk for post-processing later. Details on how to do this (and reading back your results) are given in the [Saving Simulation Results](Saving%20results.ipynb) notebook."
   ]
  }
 ],
 "metadata": {
  "kernelspec": {
   "display_name": "Python 3 (ipykernel)",
   "language": "python",
   "name": "python3"
  },
  "language_info": {
   "codemirror_mode": {
    "name": "ipython",
    "version": 3
   },
   "file_extension": ".py",
   "mimetype": "text/x-python",
   "name": "python",
   "nbconvert_exporter": "python",
   "pygments_lexer": "ipython3",
   "version": "3.10.5"
  }
 },
 "nbformat": 4,
 "nbformat_minor": 5
}
