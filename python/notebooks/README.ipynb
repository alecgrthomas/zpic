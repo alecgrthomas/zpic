{
 "cells": [
  {
   "cell_type": "markdown",
   "metadata": {},
   "source": [
    "# ZPIC Examples\n",
    "\n",
    "In this folder you can find example Jupyter notebooks using ZPIC. If you haven't, make sure you start with the [ZPIC](tutorial/ZPIC.ipynb) notebook that covers the basic usage of ZPIC in these environments.\n",
    "\n",
    " These examples are organized over 3 directories as follows:\n",
    "\n",
    "* `tutorial` - Notebooks introducing code usage and functionalities;\n",
    "* `classroom` - Examples of ZPIC notebooks that can be used in a classroom to showcase some of the most fundamental plasma physics phenomena;\n",
    "* `papers` - Notebooks reproducing and extending the work done in seminal plasma physics papers.\n",
    "\n",
    "## Tutorials\n",
    "\n",
    "* [ZPIC](tutorial/ZPIC.ipynb) - Main tutorial file, **be sure to start here**;\n",
    "* [Saving Results](tutorial/Saving%20results.ipynb) - Saving simulation results to disk;\n",
    "* [Animation](tutorial/Animation.ipynb) - Ceating animations from your simulations;\n",
    "* [External Fields](tutorial/External%20Fields.ipynb) - Using external (constant) EM fields in your simulation;\n",
    "* [Initial Fields](tutorial/Initial%20Fields.ipynb) - Setting the initial EM fields for your simulation;\n",
    "* [Density](tutorial/Density.ipynb) - Setting the density profile of particle species;\n",
    "* [Thermal distribution](tutorial/Thermal%20Distribution.ipynb) - Setting the thermal distribution of particle species;\n",
    "* [Cathode](tutorial/Cathode.ipynb) - Implementing a cathode (particle injection from simulation wall);\n",
    "* [Custom velocity distribution](tutorial/Custom%20velocity%20distribution.ipynb) - Implementing custom (arbitrary) intial velocity distributions;\n",
    "* [Laser Pulses](tutorial/Laser%20Pulses.ipynb) - Launching laser pulses ini ZPIC simulations.\n",
    "\n",
    "## Classroom examples\n",
    "\n",
    "\n",
    "\n",
    "## Landmark papers\n",
    "\n",
    "* [Tajima and Dawson (1979)](papers/Tajima%20and%20Dawson%201979.ipynb) - Laser Electron Accelerator, Physical Review Letters, Volume 43, Number 4, July 1979, [DOI: 10.1103/PhysRevLett.43.267](https://doi.org/10.1103/PhysRevLett.43.267);\n",
    "* [Morse and Nielsen (1971)](papers/Morse%20and%20Nielsen%201971.ipynb) - Numerical Simulation of the Weibel Instability in One and Two Dimensions, The Physics of Fluids, Volume 14, Number 4, April 1971, [DOI: 10.1063/1.1693518](https://doi.org/10.1063/1.1693518).\n"
   ]
  }
 ],
 "metadata": {
  "language_info": {
   "name": "python"
  },
  "orig_nbformat": 4
 },
 "nbformat": 4,
 "nbformat_minor": 2
}
