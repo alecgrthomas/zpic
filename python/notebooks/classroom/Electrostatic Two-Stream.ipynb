{
 "cells": [
  {
   "cell_type": "markdown",
   "metadata": {},
   "source": [
    "# Electrostatic Two-Stream instability\n",
    "\n",
    "In this more advanced example, we show how to create a movie of the particles phasespace using direct access to the simulation data. The initialization of the simulation is done the normal way:"
   ]
  },
  {
   "cell_type": "code",
   "execution_count": 10,
   "metadata": {},
   "outputs": [],
   "source": [
    "# Add zpic library to path\n",
    "import sys\n",
    "sys.path.append(\"../../lib\")\n",
    "\n",
    "import es1d\n",
    "\n",
    "import numpy as np\n",
    "\n",
    "nx = 120\n",
    "box = 4 * np.pi\n",
    "dt = 0.1\n",
    "tmax = 50.0\n",
    "\n",
    "ppc = 500\n",
    "vfl = 0.1\n",
    "vth = 0.001\n",
    "\n",
    "right = es1d.Species( \"right\", -1.0, ppc, vfl = vfl, vth = vth )\n",
    "\n",
    "vfl = -vfl\n",
    "left  = es1d.Species( \"left\", -1.0, ppc, vfl = vfl, vth = vth )\n",
    "\n",
    "# Initialize the simulation without diagnostics\n",
    "sim = es1d.Simulation( nx, box, dt, species = [right,left] )"
   ]
  },
  {
   "cell_type": "code",
   "execution_count": 13,
   "metadata": {},
   "outputs": [
    {
     "name": "stdout",
     "output_type": "stream",
     "text": [
      "\n",
      "Running simulation up to t = 45 ...\n",
      "n = 451, t = 45.1\n",
      "Done.\n"
     ]
    }
   ],
   "source": [
    "sim.run(45.0)"
   ]
  },
  {
   "cell_type": "code",
   "execution_count": null,
   "metadata": {},
   "outputs": [],
   "source": []
  }
 ],
 "metadata": {
  "kernelspec": {
   "display_name": "Python 3 (ipykernel)",
   "language": "python",
   "name": "python3"
  },
  "language_info": {
   "codemirror_mode": {
    "name": "ipython",
    "version": 3
   },
   "file_extension": ".py",
   "mimetype": "text/x-python",
   "name": "python",
   "nbconvert_exporter": "python",
   "pygments_lexer": "ipython3",
   "version": "3.10.5"
  }
 },
 "nbformat": 4,
 "nbformat_minor": 4
}
